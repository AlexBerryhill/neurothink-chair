{
 "cells": [
  {
   "cell_type": "markdown",
   "id": "81d75cbe",
   "metadata": {},
   "source": [
    "# Eyes Open/Closed Detection\n",
    "\n",
    "In this notebook we will train a model to determine whether a person's eyes are open or closed based on EEG signals from the Muse 2 headset.\n",
    "\n",
    "## Running a Survey\n",
    "\n",
    "First we can import our library and run a survey, so we can train a model on the resulting data. We'll ask the participant to first get into a comfortable position, then open eyes for 30s, close for 30s, etc. 3x."
   ]
  },
  {
   "cell_type": "code",
   "execution_count": 8,
   "id": "a8326ece",
   "metadata": {},
   "outputs": [
    {
     "name": "stdout",
     "output_type": "stream",
     "text": [
      "The autoreload extension is already loaded. To reload it, use:\n",
      "  %reload_ext autoreload\n"
     ]
    }
   ],
   "source": [
    "%matplotlib notebook\n",
    "# Reload external source files when they change\n",
    "%load_ext autoreload\n",
    "%autoreload 2\n",
    "import sys\n",
    "from datetime import timedelta\n",
    "import numpy as np\n",
    "import pandas as pd\n",
    "import matplotlib.pyplot as plt\n",
    "sys.path.append(\"../src\")\n",
    "from recorder import Muse2EEGRecorder\n",
    "from survey import Survey"
   ]
  },
  {
   "cell_type": "code",
   "execution_count": 17,
   "id": "4a901c79",
   "metadata": {},
   "outputs": [
    {
     "name": "stderr",
     "output_type": "stream",
     "text": [
      "\n",
      "    Error 305 for command:\n",
      "        open \"..\\data\\Meditation-bell-sound.mp3\"\n",
      "    Cannot specify extra characters after a string enclosed in quotation marks.\n",
      "\n",
      "    Error 305 for command:\n",
      "        close \"..\\data\\Meditation-bell-sound.mp3\"\n",
      "    Cannot specify extra characters after a string enclosed in quotation marks.\n",
      "Failed to close the file: \"..\\data\\Meditation-bell-sound.mp3\"\n"
     ]
    },
    {
     "name": "stdout",
     "output_type": "stream",
     "text": [
      "Next step -- Just breathe normally, gently relax any tension, get in a comfortable position.\n"
     ]
    },
    {
     "ename": "PlaysoundException",
     "evalue": "\n    Error 305 for command:\n        open \"..\\data\\Meditation-bell-sound.mp3\"\n    Cannot specify extra characters after a string enclosed in quotation marks.",
     "output_type": "error",
     "traceback": [
      "\u001b[1;31m---------------------------------------------------------------------------\u001b[0m",
      "\u001b[1;31mPlaysoundException\u001b[0m                        Traceback (most recent call last)",
      "\u001b[1;32mc:\\Users\\amsb9\\Documents\\GitHub\\neurothink-chair\\EEG\\Muse-EEG-eyes-open.ipynb Cell 3\u001b[0m in \u001b[0;36m<cell line: 19>\u001b[1;34m()\u001b[0m\n\u001b[0;32m     <a href='vscode-notebook-cell:/c%3A/Users/amsb9/Documents/GitHub/neurothink-chair/EEG/Muse-EEG-eyes-open.ipynb#W2sZmlsZQ%3D%3D?line=16'>17</a>\u001b[0m muse2_recorder \u001b[39m=\u001b[39m Muse2EEGRecorder()\n\u001b[0;32m     <a href='vscode-notebook-cell:/c%3A/Users/amsb9/Documents/GitHub/neurothink-chair/EEG/Muse-EEG-eyes-open.ipynb#W2sZmlsZQ%3D%3D?line=17'>18</a>\u001b[0m eyes_survey \u001b[39m=\u001b[39m Survey(muse2_recorder, \u001b[39m\"\u001b[39m\u001b[39mEyes open-closed\u001b[39m\u001b[39m\"\u001b[39m, \u001b[39m\"\u001b[39m\u001b[39mEyes open for 30, closed for 30 - repeat 3x.\u001b[39m\u001b[39m\"\u001b[39m, eyes_schedule)\n\u001b[1;32m---> <a href='vscode-notebook-cell:/c%3A/Users/amsb9/Documents/GitHub/neurothink-chair/EEG/Muse-EEG-eyes-open.ipynb#W2sZmlsZQ%3D%3D?line=18'>19</a>\u001b[0m eyes_survey\u001b[39m.\u001b[39;49mrecord(\u001b[39m\"\u001b[39;49m\u001b[39mAlex\u001b[39;49m\u001b[39m\"\u001b[39;49m)\n",
      "File \u001b[1;32mc:\\Users\\amsb9\\Documents\\GitHub\\neurothink-chair\\EEG\\../src\\survey.py:52\u001b[0m, in \u001b[0;36mSurvey.record\u001b[1;34m(self, subject)\u001b[0m\n\u001b[0;32m     50\u001b[0m \u001b[39m# Play audio to signal next step\u001b[39;00m\n\u001b[0;32m     51\u001b[0m \u001b[39mif\u001b[39;00m \u001b[39mself\u001b[39m\u001b[39m.\u001b[39mnext_step_audio:\n\u001b[1;32m---> 52\u001b[0m     \u001b[39mself\u001b[39;49m\u001b[39m.\u001b[39;49m_play_next_step_audio(description)\n\u001b[0;32m     54\u001b[0m \u001b[39m# Execute custom handler function\u001b[39;00m\n\u001b[0;32m     55\u001b[0m \u001b[39mself\u001b[39m\u001b[39m.\u001b[39mhandler_thread\u001b[39m.\u001b[39msubmit(handler)\n",
      "File \u001b[1;32mc:\\Users\\amsb9\\Documents\\GitHub\\neurothink-chair\\EEG\\../src\\survey.py:174\u001b[0m, in \u001b[0;36mSurvey._play_next_step_audio\u001b[1;34m(self, description)\u001b[0m\n\u001b[0;32m    172\u001b[0m \u001b[39mprint\u001b[39m(\u001b[39m\"\u001b[39m\u001b[39mNext step -- \u001b[39m\u001b[39m\"\u001b[39m \u001b[39m+\u001b[39m description)\n\u001b[0;32m    173\u001b[0m filename\u001b[39m=\u001b[39m \u001b[39mr\u001b[39m\u001b[39m'\u001b[39m\u001b[39mC:/Users/amsb9/Documents/GitHub/neurothink-chair/data/Meditation-bell-sound.mp3\u001b[39m\u001b[39m'\u001b[39m\n\u001b[1;32m--> 174\u001b[0m ps\u001b[39m.\u001b[39;49mplaysound(\u001b[39m'\u001b[39;49m\u001b[39mMeditation-bell-sound.mp3\u001b[39;49m\u001b[39m'\u001b[39;49m)\n\u001b[0;32m    175\u001b[0m exec_cmd(\u001b[39m\"\u001b[39m\u001b[39mmpg123 ../data/Meditation-bell-sound.mp3\u001b[39m\u001b[39m\"\u001b[39m)\n\u001b[0;32m    176\u001b[0m exec_cmd(\u001b[39m\"\u001b[39m\u001b[39mbash -c \u001b[39m\u001b[39m'\u001b[39m\u001b[39mmimic \u001b[39m\u001b[39m\\\"\u001b[39;00m\u001b[39m\"\u001b[39m \u001b[39m+\u001b[39m description \u001b[39m+\u001b[39m \u001b[39m\"\u001b[39m\u001b[39m\\\"\u001b[39;00m\u001b[39m -o EEG-Muse_tmp.wav && cvlc EEG-Muse_tmp.wav --play-and-exit && rm EEG-Muse_tmp.wav\u001b[39m\u001b[39m'\u001b[39m\u001b[39m\"\u001b[39m)\n",
      "File \u001b[1;32mc:\\Users\\amsb9\\AppData\\Local\\Programs\\Python\\Python310\\lib\\site-packages\\playsound.py:72\u001b[0m, in \u001b[0;36m_playsoundWin\u001b[1;34m(sound, block)\u001b[0m\n\u001b[0;32m     70\u001b[0m \u001b[39mtry\u001b[39;00m:\n\u001b[0;32m     71\u001b[0m     logger\u001b[39m.\u001b[39mdebug(\u001b[39m'\u001b[39m\u001b[39mStarting\u001b[39m\u001b[39m'\u001b[39m)\n\u001b[1;32m---> 72\u001b[0m     winCommand(\u001b[39mu\u001b[39;49m\u001b[39m'\u001b[39;49m\u001b[39mopen \u001b[39;49m\u001b[39m{}\u001b[39;49;00m\u001b[39m'\u001b[39;49m\u001b[39m.\u001b[39;49mformat(sound))\n\u001b[0;32m     73\u001b[0m     winCommand(\u001b[39mu\u001b[39m\u001b[39m'\u001b[39m\u001b[39mplay \u001b[39m\u001b[39m{}\u001b[39;00m\u001b[39m{}\u001b[39;00m\u001b[39m'\u001b[39m\u001b[39m.\u001b[39mformat(sound, \u001b[39m'\u001b[39m\u001b[39m wait\u001b[39m\u001b[39m'\u001b[39m \u001b[39mif\u001b[39;00m block \u001b[39melse\u001b[39;00m \u001b[39m'\u001b[39m\u001b[39m'\u001b[39m))\n\u001b[0;32m     74\u001b[0m     logger\u001b[39m.\u001b[39mdebug(\u001b[39m'\u001b[39m\u001b[39mReturning\u001b[39m\u001b[39m'\u001b[39m)\n",
      "File \u001b[1;32mc:\\Users\\amsb9\\AppData\\Local\\Programs\\Python\\Python310\\lib\\site-packages\\playsound.py:64\u001b[0m, in \u001b[0;36m_playsoundWin.<locals>.winCommand\u001b[1;34m(*command)\u001b[0m\n\u001b[0;32m     60\u001b[0m     exceptionMessage \u001b[39m=\u001b[39m (\u001b[39m'\u001b[39m\u001b[39m\\n\u001b[39;00m\u001b[39m    Error \u001b[39m\u001b[39m'\u001b[39m \u001b[39m+\u001b[39m \u001b[39mstr\u001b[39m(errorCode) \u001b[39m+\u001b[39m \u001b[39m'\u001b[39m\u001b[39m for command:\u001b[39m\u001b[39m'\u001b[39m\n\u001b[0;32m     61\u001b[0m                         \u001b[39m'\u001b[39m\u001b[39m\\n\u001b[39;00m\u001b[39m        \u001b[39m\u001b[39m'\u001b[39m \u001b[39m+\u001b[39m command\u001b[39m.\u001b[39mdecode(\u001b[39m'\u001b[39m\u001b[39mutf-16\u001b[39m\u001b[39m'\u001b[39m) \u001b[39m+\u001b[39m\n\u001b[0;32m     62\u001b[0m                         \u001b[39m'\u001b[39m\u001b[39m\\n\u001b[39;00m\u001b[39m    \u001b[39m\u001b[39m'\u001b[39m \u001b[39m+\u001b[39m errorBuffer\u001b[39m.\u001b[39mraw\u001b[39m.\u001b[39mdecode(\u001b[39m'\u001b[39m\u001b[39mutf-16\u001b[39m\u001b[39m'\u001b[39m)\u001b[39m.\u001b[39mrstrip(\u001b[39m'\u001b[39m\u001b[39m\\0\u001b[39;00m\u001b[39m'\u001b[39m))\n\u001b[0;32m     63\u001b[0m     logger\u001b[39m.\u001b[39merror(exceptionMessage)\n\u001b[1;32m---> 64\u001b[0m     \u001b[39mraise\u001b[39;00m PlaysoundException(exceptionMessage)\n\u001b[0;32m     65\u001b[0m \u001b[39mreturn\u001b[39;00m buf\u001b[39m.\u001b[39mvalue\n",
      "\u001b[1;31mPlaysoundException\u001b[0m: \n    Error 305 for command:\n        open \"..\\data\\Meditation-bell-sound.mp3\"\n    Cannot specify extra characters after a string enclosed in quotation marks."
     ]
    }
   ],
   "source": [
    "eyes_open_step = (timedelta(seconds=30), \"eyes_open\", \"Please open your eyes.\", True)\n",
    "eyes_closed_step = (timedelta(seconds=30), \"eyes_closed\", \"Please close your eyes.\", True)\n",
    "eyes_schedule = [\n",
    "    (timedelta(seconds=30), \"intro\", \"Just breathe normally, gently relax any tension, get in a comfortable position.\", False),\n",
    "    eyes_open_step,\n",
    "    eyes_closed_step,\n",
    "    eyes_open_step,\n",
    "    eyes_closed_step,\n",
    "    eyes_open_step,\n",
    "    eyes_closed_step\n",
    "]\n",
    "\n",
    "test_schedule = [\n",
    "    (timedelta(seconds=5), \"intro\", \"Just breathe normally, gently relax any tension, get in a comfortable position.\", True)\n",
    "]\n",
    "\n",
    "muse2_recorder = Muse2EEGRecorder()\n",
    "eyes_survey = Survey(muse2_recorder, \"Eyes open-closed\", \"Eyes open for 30, closed for 30 - repeat 3x.\", eyes_schedule)\n",
    "eyes_survey.record(\"Alex\")"
   ]
  },
  {
   "cell_type": "markdown",
   "id": "cde1e5e4",
   "metadata": {},
   "source": [
    "## Preparing Data for Learning\n",
    "\n",
    "We need to transform our raw survey data into a format suitable for supervised learning. We will create an input tensor with the shape required by PyTorch - `(batch_size, kernel_size, seq_len)`, aka `(Samples, Variables, Length / time or sequence steps)`, or `[batch_size, channels, num_features (aka: H * W)]`.\n",
    "\n",
    "1. Batch size can be tuned. We will start with `64`.\n",
    "2. The second index is the number of features per batch. In this case, we have four EEG sensors, so that will be `4`.\n",
    "3. The number of samples included for each feature in each batch. This must be the same for every batch, so we will need to use a size <= the size of the smallest dataset we will use.\n",
    "\n",
    "The PyTorch `DataLoader` is an alternative to batching out data manually. After creating a `Dataset`, the DataLoader will batch data with a given batch size."
   ]
  },
  {
   "cell_type": "code",
   "execution_count": 4,
   "id": "2a63694a",
   "metadata": {},
   "outputs": [],
   "source": [
    "import os\n",
    "import torch\n",
    "from torch.utils.data import Dataset, DataLoader\n",
    "\n",
    "from eeg_preprocessing import preprocess_eeg_channel\n",
    "from eegdata import EEGSurveyDataset, ChunkedDataset, MultiDataset\n",
    "\n",
    "def transform_normalize(data):\n",
    "    for ch in range(data.shape[1]):\n",
    "        data[:, ch] = preprocess_eeg_channel(data[:, ch])\n",
    "        stddev = data[:, ch].std()\n",
    "        if stddev != 0:\n",
    "            data[:, ch] = (data[:, ch] - data[:, ch].mean()) / stddev\n",
    "    return data\n",
    "\n",
    "batch_size = 35\n",
    "\n",
    "# Create PyTorch Datasets\n",
    "# For 30s datasets, the # of samples is between 7666 and 7936, with 7936 being the most common.\n",
    "ds1 = EEGSurveyDataset(\"../data\\muse2-recordings\\surveys\\Eyes open-closedAlex2023-02-28 175124.152478\", 7665, transform=transform_normalize)\n",
    "ds2 = EEGSurveyDataset(\"../data\\muse2-recordings\\surveys\\Eyes open-closed Alex 2023-02-28 180223.542443\", 7665, transform=transform_normalize)\n",
    "ds3 = EEGSurveyDataset(\"../data\\muse2-recordings\\surveys\\Eyes open-closed Alex 2023-02-28 181123.180577\", 7665, transform=transform_normalize)\n",
    "ds4 = EEGSurveyDataset(\"../data\\muse2-recordings\\surveys\\Eyes open-closed Alex 2023-02-28 182051.315931\", 7665, transform=transform_normalize)\n",
    "ds5 = EEGSurveyDataset(\"../data\\muse2-recordings\\surveys\\Eyes open-closed Alex 2023-03-01 190129.939632\", 7665, transform=transform_normalize)\n",
    "ds6 = EEGSurveyDataset(\"../data\\muse2-recordings\\surveys\\Eyes open-closed Alex 2023-03-01 190647.597127\", 7665, transform=transform_normalize)\n",
    "ds7 = EEGSurveyDataset(\"../data\\muse2-recordings\\surveys\\Eyes open-closed Alex 2023-03-01 191102.296501\", 7665, transform=transform_normalize)\n",
    "ds8 = EEGSurveyDataset(\"../data\\muse2-recordings\\surveys\\Eyes open-closed Alex 2023-03-01 191541.164491\", 7665, transform=transform_normalize)\n",
    "ds9 = EEGSurveyDataset(\"../data\\muse2-recordings\\surveys\\Eyes open-closed Alex 2023-03-01 192625.791140\", 7665, transform=transform_normalize)\n",
    "ds1, ds2, ds3, ds4, ds5, ds6, ds7, ds8 = ChunkedDataset(ds1, batch_size), ChunkedDataset(ds2, batch_size), ChunkedDataset(ds3, batch_size), ChunkedDataset(ds4, batch_size), ChunkedDataset(ds5, batch_size), ChunkedDataset(ds6, batch_size), ChunkedDataset(ds7, batch_size), ChunkedDataset(ds8, batch_size)\n",
    "train_dataset = MultiDataset([ds1, ds2, ds3, ds5, ds6, ds7])\n",
    "test_dataset = MultiDataset([ds4, ds8])\n",
    "# Create DataLoaders\n",
    "train_dataloader = DataLoader(train_dataset, batch_size=batch_size, shuffle=True, num_workers=4)\n",
    "test_dataloader = DataLoader(test_dataset, batch_size=batch_size, shuffle=True, num_workers=4)"
   ]
  },
  {
   "cell_type": "markdown",
   "id": "0284483e",
   "metadata": {},
   "source": [
    "## Evaluate Data Quality\n",
    "\n",
    "Some"
   ]
  },
  {
   "cell_type": "markdown",
   "id": "432f2c95",
   "metadata": {},
   "source": [
    "## PyTorch Model\n",
    "\n",
    "Now we can create the neural network we will be training on the collected data. We will use the [simple keras model by Sentdex](https://github.com/Sentdex/BCI) as a starting point."
   ]
  },
  {
   "cell_type": "code",
   "execution_count": 5,
   "id": "2ab1e1a8",
   "metadata": {},
   "outputs": [
    {
     "name": "stdout",
     "output_type": "stream",
     "text": [
      "Model input shape: torch.Size([35, 4, 219])\n",
      "Model output shape: torch.Size([35, 2])\n"
     ]
    },
    {
     "name": "stderr",
     "output_type": "stream",
     "text": [
      "c:\\Users\\amsb9\\AppData\\Local\\Programs\\Python\\Python310\\lib\\site-packages\\torch\\nn\\modules\\container.py:204: UserWarning: Implicit dimension choice for softmax has been deprecated. Change the call to include dim=X as an argument.\n",
      "  input = module(input)\n"
     ]
    }
   ],
   "source": [
    "import torch\n",
    "import torch.nn as nn\n",
    "import torch.nn.functional as F\n",
    "\n",
    "n_channels = 4\n",
    "n_outputs = 2\n",
    "\n",
    "# Create model\n",
    "net = nn.Sequential(\n",
    "    # Pass input to a 1D convolutional layer with a kernel size of 3, apply to activation function.\n",
    "    nn.Conv1d(n_channels, 32, 3),\n",
    "    nn.ReLU(),\n",
    "\n",
    "    # Pass previous layer output to a 1D convolutional layer with a kernel size of 2, apply to activation function,\n",
    "    # and get the max value from each kernel.\n",
    "    nn.Conv1d(32, 32, 2),\n",
    "    nn.ReLU(),\n",
    "    nn.MaxPool1d(kernel_size=2),\n",
    "\n",
    "    # Pass previous layer output to a 1D convolutional layer with a kernel size of 2, apply to activation function,\n",
    "    # and get the max value from each kernel. (same as previous layer)\n",
    "    nn.Conv1d(32, 32, 2),\n",
    "    nn.ReLU(),\n",
    "    nn.MaxPool1d(kernel_size=2),\n",
    "\n",
    "    # Flatten the convolutions. Input shape: (a, b, c), Output shape: (a, b*c)\n",
    "    nn.Flatten(),\n",
    "    \n",
    "    #nn.Dropout(0.5),\n",
    "    # ?\n",
    "    # XXX: The first number needs to be updated each time the input shapes change. We could instead\n",
    "    #      Create a class-based Module, and do a single pass through the conv portion of the network\n",
    "    #      in order to determine the actual size.\n",
    "    #      (This technique is shown in https://www.youtube.com/watch?v=1gQR24B3ISE&list=PLQVvvaa0QuDdeMyHEYc0gxFpYwHY2Qfdh&index=7).\n",
    "    #      For now, we can update this value as needed by commenting out all layers after Flatten(), then running the code\n",
    "    #      below and inspecting the output shape. The x[1] value should be the first arg in the following line.\n",
    "    nn.Linear(1696, 512),  # ~= nn.LazyLinear(512)\n",
    "\n",
    "    # Flatten the linear layer into the required number of outputs\n",
    "    nn.Linear(512, n_outputs),\n",
    "    nn.Softmax()\n",
    ")\n",
    "\n",
    "for i, data in enumerate(train_dataloader, 0):\n",
    "    features, labels = data\n",
    "    print(\"Model input shape:\", features.shape)\n",
    "    out = net(features.float())\n",
    "    print(\"Model output shape:\", out.shape)\n",
    "    break"
   ]
  },
  {
   "cell_type": "markdown",
   "id": "78a72cd8",
   "metadata": {},
   "source": [
    "### Training the model"
   ]
  },
  {
   "cell_type": "code",
   "execution_count": 6,
   "id": "04b5b0ed",
   "metadata": {
    "scrolled": false
   },
   "outputs": [
    {
     "name": "stderr",
     "output_type": "stream",
     "text": [
      "100%|██████████| 80/80 [35:38<00:00, 26.73s/it]\n"
     ]
    },
    {
     "name": "stdout",
     "output_type": "stream",
     "text": [
      "Passes per epoch: 36.0\n",
      "Final Loss: 0.3704300820827484\n",
      "Final Accuracy: 65%\n"
     ]
    },
    {
     "data": {
      "image/png": "[encoded data removed]",
      "text/plain": [
       "<Figure size 432x288 with 1 Axes>"
      ]
     },
     "metadata": {
      "needs_background": "light"
     },
     "output_type": "display_data"
    }
   ],
   "source": [
    "from torch.utils.data import DataLoader\n",
    "import torch.optim as optim\n",
    "from tqdm import tqdm\n",
    "\n",
    "# Define criterion and optimizer\n",
    "criterion = nn.CrossEntropyLoss()\n",
    "optimizer = optim.Adam(net.parameters(), lr=0.001)\n",
    "\n",
    "# Train for n epochs\n",
    "n = 80\n",
    "test_while_training = True\n",
    "\n",
    "loss_history = []\n",
    "eval_history = []\n",
    "count = 0\n",
    "net.train()\n",
    "for epoch in tqdm(range(n)):\n",
    "    for i, data in enumerate(train_dataloader, 0):\n",
    "        features, labels = data\n",
    "\n",
    "        # Zero gradients\n",
    "        optimizer.zero_grad()\n",
    "        #net.zero_grad()\n",
    "\n",
    "        # Forward\n",
    "        predictions = net(features.float())\n",
    "        \n",
    "        # Compute loss\n",
    "        loss = criterion(predictions, labels.long())\n",
    "        loss_history.append(loss.item())\n",
    "        \n",
    "        # Backward\n",
    "        loss.backward()\n",
    "        \n",
    "        # Optimize\n",
    "        optimizer.step()\n",
    "        \n",
    "        count += 1\n",
    "        \n",
    "    # Evaluate the model against the test dataset\n",
    "    if test_while_training:\n",
    "        total = 0\n",
    "        correct = 0\n",
    "        with torch.no_grad():\n",
    "            for i, data in enumerate(test_dataloader, 0):\n",
    "                features, labels = data\n",
    "                out = net(features.float())\n",
    "                preds = F.log_softmax(out, dim=1).argmax(dim=1)\n",
    "                total += labels.size(0)\n",
    "                correct += (preds == labels).sum().item()\n",
    "\n",
    "        eval_history.append(correct / total)\n",
    "\n",
    "%matplotlib inline\n",
    "plt.title(\"Training session\")\n",
    "print(\"Passes per epoch:\", count / n)\n",
    "print(\"Final Loss:\", loss_history[-1])\n",
    "plt.plot(np.linspace(0, 1, len(loss_history)), loss_history, label=\"Loss\")\n",
    "if test_while_training:\n",
    "    print(f\"Final Accuracy: {int(100*eval_history[-1])}%\")\n",
    "    plt.plot(np.linspace(0, 1, len(eval_history)), eval_history, label=\"Accuracy\")\n",
    "plt.legend()\n",
    "plt.show()"
   ]
  },
  {
   "cell_type": "code",
   "execution_count": 7,
   "id": "20128bbc",
   "metadata": {},
   "outputs": [
    {
     "name": "stdout",
     "output_type": "stream",
     "text": [
      "Correct: 273 / 420 - 65%\n"
     ]
    }
   ],
   "source": [
    "net.eval()\n",
    "total = 0\n",
    "correct = 0\n",
    "with torch.no_grad():\n",
    "    for i, data in enumerate(test_dataloader, 0):\n",
    "        features, labels = data\n",
    "        out = net(features.float())\n",
    "        preds = F.log_softmax(out, dim=1).argmax(dim=1)\n",
    "        total += labels.size(0)\n",
    "        correct += (preds == labels).sum().item()\n",
    "\n",
    "model_accuracy = int(correct / total * 100)\n",
    "print(\"Correct:\", correct, \"/\", total, \"-\", f\"{model_accuracy}%\")"
   ]
  },
  {
   "cell_type": "markdown",
   "id": "e6cfa73f",
   "metadata": {},
   "source": [
    "## Save the Model"
   ]
  },
  {
   "cell_type": "code",
   "execution_count": 8,
   "id": "a4cc6c12",
   "metadata": {},
   "outputs": [
    {
     "ename": "RuntimeError",
     "evalue": "File ../models/2023-03-02 09:35:45.025256-Muse_EEG_eyes_open-65percent.pt cannot be opened.",
     "output_type": "error",
     "traceback": [
      "\u001b[1;31m---------------------------------------------------------------------------\u001b[0m",
      "\u001b[1;31mRuntimeError\u001b[0m                              Traceback (most recent call last)",
      "\u001b[1;32mc:\\Users\\amsb9\\Documents\\GitHub\\neurothink-chair\\EEG\\Muse-EEG-eyes-open.ipynb Cell 13\u001b[0m in \u001b[0;36m<cell line: 4>\u001b[1;34m()\u001b[0m\n\u001b[0;32m      <a href='vscode-notebook-cell:/c%3A/Users/amsb9/Documents/GitHub/neurothink-chair/EEG/Muse-EEG-eyes-open.ipynb#X15sZmlsZQ%3D%3D?line=0'>1</a>\u001b[0m \u001b[39mfrom\u001b[39;00m \u001b[39mdatetime\u001b[39;00m \u001b[39mimport\u001b[39;00m datetime\n\u001b[0;32m      <a href='vscode-notebook-cell:/c%3A/Users/amsb9/Documents/GitHub/neurothink-chair/EEG/Muse-EEG-eyes-open.ipynb#X15sZmlsZQ%3D%3D?line=2'>3</a>\u001b[0m timestamp \u001b[39m=\u001b[39m \u001b[39mstr\u001b[39m(datetime\u001b[39m.\u001b[39mnow())\n\u001b[1;32m----> <a href='vscode-notebook-cell:/c%3A/Users/amsb9/Documents/GitHub/neurothink-chair/EEG/Muse-EEG-eyes-open.ipynb#X15sZmlsZQ%3D%3D?line=3'>4</a>\u001b[0m torch\u001b[39m.\u001b[39;49msave(net\u001b[39m.\u001b[39;49mstate_dict(), \u001b[39mf\u001b[39;49m\u001b[39m\"\u001b[39;49m\u001b[39m../models/\u001b[39;49m\u001b[39m{\u001b[39;49;00mtimestamp\u001b[39m}\u001b[39;49;00m\u001b[39m-Muse_EEG_eyes_open-\u001b[39;49m\u001b[39m{\u001b[39;49;00mmodel_accuracy\u001b[39m}\u001b[39;49;00m\u001b[39mpercent.pt\u001b[39;49m\u001b[39m\"\u001b[39;49m)\n\u001b[0;32m      <a href='vscode-notebook-cell:/c%3A/Users/amsb9/Documents/GitHub/neurothink-chair/EEG/Muse-EEG-eyes-open.ipynb#X15sZmlsZQ%3D%3D?line=4'>5</a>\u001b[0m \u001b[39mwith\u001b[39;00m \u001b[39mopen\u001b[39m(\u001b[39mf\u001b[39m\u001b[39m\"\u001b[39m\u001b[39m../models/\u001b[39m\u001b[39m{\u001b[39;00mtimestamp\u001b[39m}\u001b[39;00m\u001b[39m-Muse_EEG_eyes_open-\u001b[39m\u001b[39m{\u001b[39;00mmodel_accuracy\u001b[39m}\u001b[39;00m\u001b[39mpercent.model\u001b[39m\u001b[39m\"\u001b[39m, \u001b[39m\"\u001b[39m\u001b[39mw\u001b[39m\u001b[39m\"\u001b[39m) \u001b[39mas\u001b[39;00m f:\n\u001b[0;32m      <a href='vscode-notebook-cell:/c%3A/Users/amsb9/Documents/GitHub/neurothink-chair/EEG/Muse-EEG-eyes-open.ipynb#X15sZmlsZQ%3D%3D?line=5'>6</a>\u001b[0m     f\u001b[39m.\u001b[39mwrite(\u001b[39mstr\u001b[39m(net))\n",
      "File \u001b[1;32mc:\\Users\\amsb9\\AppData\\Local\\Programs\\Python\\Python310\\lib\\site-packages\\torch\\serialization.py:422\u001b[0m, in \u001b[0;36msave\u001b[1;34m(obj, f, pickle_module, pickle_protocol, _use_new_zipfile_serialization)\u001b[0m\n\u001b[0;32m    419\u001b[0m _check_dill_version(pickle_module)\n\u001b[0;32m    421\u001b[0m \u001b[39mif\u001b[39;00m _use_new_zipfile_serialization:\n\u001b[1;32m--> 422\u001b[0m     \u001b[39mwith\u001b[39;00m _open_zipfile_writer(f) \u001b[39mas\u001b[39;00m opened_zipfile:\n\u001b[0;32m    423\u001b[0m         _save(obj, opened_zipfile, pickle_module, pickle_protocol)\n\u001b[0;32m    424\u001b[0m         \u001b[39mreturn\u001b[39;00m\n",
      "File \u001b[1;32mc:\\Users\\amsb9\\AppData\\Local\\Programs\\Python\\Python310\\lib\\site-packages\\torch\\serialization.py:309\u001b[0m, in \u001b[0;36m_open_zipfile_writer\u001b[1;34m(name_or_buffer)\u001b[0m\n\u001b[0;32m    307\u001b[0m \u001b[39melse\u001b[39;00m:\n\u001b[0;32m    308\u001b[0m     container \u001b[39m=\u001b[39m _open_zipfile_writer_buffer\n\u001b[1;32m--> 309\u001b[0m \u001b[39mreturn\u001b[39;00m container(name_or_buffer)\n",
      "File \u001b[1;32mc:\\Users\\amsb9\\AppData\\Local\\Programs\\Python\\Python310\\lib\\site-packages\\torch\\serialization.py:287\u001b[0m, in \u001b[0;36m_open_zipfile_writer_file.__init__\u001b[1;34m(self, name)\u001b[0m\n\u001b[0;32m    286\u001b[0m \u001b[39mdef\u001b[39;00m \u001b[39m__init__\u001b[39m(\u001b[39mself\u001b[39m, name) \u001b[39m-\u001b[39m\u001b[39m>\u001b[39m \u001b[39mNone\u001b[39;00m:\n\u001b[1;32m--> 287\u001b[0m     \u001b[39msuper\u001b[39m(_open_zipfile_writer_file, \u001b[39mself\u001b[39m)\u001b[39m.\u001b[39m\u001b[39m__init__\u001b[39m(torch\u001b[39m.\u001b[39;49m_C\u001b[39m.\u001b[39;49mPyTorchFileWriter(\u001b[39mstr\u001b[39;49m(name)))\n",
      "\u001b[1;31mRuntimeError\u001b[0m: File ../models/2023-03-02 09:35:45.025256-Muse_EEG_eyes_open-65percent.pt cannot be opened."
     ]
    }
   ],
   "source": [
    "from datetime import datetime\n",
    "\n",
    "timestamp = str(datetime.now())\n",
    "torch.save(net.state_dict(), f\"../models/{timestamp}-Muse_EEG_eyes_open-{model_accuracy}percent.pt\")\n",
    "with open(f\"../models/{timestamp}-Muse_EEG_eyes_open-{model_accuracy}percent.model\", \"w\") as f:\n",
    "    f.write(str(net))"
   ]
  },
  {
   "cell_type": "markdown",
   "id": "284c2fa6",
   "metadata": {},
   "source": [
    "## Raw EEG + FFT Model\n",
    "\n",
    "While our previous model had an impressive accuracy given the size of our dataset, it can probably be improved by adding more features. We will provide outputs from a Fast Fourier Transform as additional features, banded over the primary brainwave bands - `Alpha`, `Beta`, `Theta`, `Delta`, `Gamma` (possibly split into `HighGamma` and `LowGamma`)."
   ]
  },
  {
   "cell_type": "code",
   "execution_count": null,
   "id": "e97a98d3",
   "metadata": {},
   "outputs": [],
   "source": []
  },
  {
   "cell_type": "markdown",
   "id": "66753322",
   "metadata": {},
   "source": [
    "## Live Test"
   ]
  },
  {
   "cell_type": "code",
   "execution_count": 14,
   "id": "1298d5ff",
   "metadata": {},
   "outputs": [
    {
     "name": "stdout",
     "output_type": "stream",
     "text": [
      "Successfully connected to muse device\n",
      "<pylsl.pylsl.XMLElement object at 0x000001C6E57D64A0>\n",
      "Muse 2 Sample rate: 256\n",
      "Muse 2 time correction: -2.214987762272358e-05\n"
     ]
    },
    {
     "ename": "RuntimeError",
     "evalue": "mat1 and mat2 shapes cannot be multiplied (1x1792 and 1696x512)",
     "output_type": "error",
     "traceback": [
      "\u001b[1;31m---------------------------------------------------------------------------\u001b[0m",
      "\u001b[1;31mRuntimeError\u001b[0m                              Traceback (most recent call last)",
      "\u001b[1;32mc:\\Users\\amsb9\\Documents\\GitHub\\neurothink-chair\\EEG\\Muse-EEG-eyes-open.ipynb Cell 17\u001b[0m in \u001b[0;36m<cell line: 4>\u001b[1;34m()\u001b[0m\n\u001b[0;32m      <a href='vscode-notebook-cell:/c%3A/Users/amsb9/Documents/GitHub/neurothink-chair/EEG/Muse-EEG-eyes-open.ipynb#X22sZmlsZQ%3D%3D?line=4'>5</a>\u001b[0m \u001b[39mfor\u001b[39;00m samples \u001b[39min\u001b[39;00m muse2_recorder\u001b[39m.\u001b[39mstream(timedelta(seconds\u001b[39m=\u001b[39m\u001b[39m5\u001b[39m)):\n\u001b[0;32m      <a href='vscode-notebook-cell:/c%3A/Users/amsb9/Documents/GitHub/neurothink-chair/EEG/Muse-EEG-eyes-open.ipynb#X22sZmlsZQ%3D%3D?line=5'>6</a>\u001b[0m     samples \u001b[39m=\u001b[39m np\u001b[39m.\u001b[39mexpand_dims(samples[:, :\u001b[39m4\u001b[39m]\u001b[39m.\u001b[39mT, axis\u001b[39m=\u001b[39m\u001b[39m0\u001b[39m)\n\u001b[1;32m----> <a href='vscode-notebook-cell:/c%3A/Users/amsb9/Documents/GitHub/neurothink-chair/EEG/Muse-EEG-eyes-open.ipynb#X22sZmlsZQ%3D%3D?line=6'>7</a>\u001b[0m     net(torch\u001b[39m.\u001b[39;49mfrom_numpy(samples)\u001b[39m.\u001b[39;49mfloat())\n",
      "File \u001b[1;32mc:\\Users\\amsb9\\AppData\\Local\\Programs\\Python\\Python310\\lib\\site-packages\\torch\\nn\\modules\\module.py:1194\u001b[0m, in \u001b[0;36mModule._call_impl\u001b[1;34m(self, *input, **kwargs)\u001b[0m\n\u001b[0;32m   1190\u001b[0m \u001b[39m# If we don't have any hooks, we want to skip the rest of the logic in\u001b[39;00m\n\u001b[0;32m   1191\u001b[0m \u001b[39m# this function, and just call forward.\u001b[39;00m\n\u001b[0;32m   1192\u001b[0m \u001b[39mif\u001b[39;00m \u001b[39mnot\u001b[39;00m (\u001b[39mself\u001b[39m\u001b[39m.\u001b[39m_backward_hooks \u001b[39mor\u001b[39;00m \u001b[39mself\u001b[39m\u001b[39m.\u001b[39m_forward_hooks \u001b[39mor\u001b[39;00m \u001b[39mself\u001b[39m\u001b[39m.\u001b[39m_forward_pre_hooks \u001b[39mor\u001b[39;00m _global_backward_hooks\n\u001b[0;32m   1193\u001b[0m         \u001b[39mor\u001b[39;00m _global_forward_hooks \u001b[39mor\u001b[39;00m _global_forward_pre_hooks):\n\u001b[1;32m-> 1194\u001b[0m     \u001b[39mreturn\u001b[39;00m forward_call(\u001b[39m*\u001b[39m\u001b[39minput\u001b[39m, \u001b[39m*\u001b[39m\u001b[39m*\u001b[39mkwargs)\n\u001b[0;32m   1195\u001b[0m \u001b[39m# Do not call functions when jit is used\u001b[39;00m\n\u001b[0;32m   1196\u001b[0m full_backward_hooks, non_full_backward_hooks \u001b[39m=\u001b[39m [], []\n",
      "File \u001b[1;32mc:\\Users\\amsb9\\AppData\\Local\\Programs\\Python\\Python310\\lib\\site-packages\\torch\\nn\\modules\\container.py:204\u001b[0m, in \u001b[0;36mSequential.forward\u001b[1;34m(self, input)\u001b[0m\n\u001b[0;32m    202\u001b[0m \u001b[39mdef\u001b[39;00m \u001b[39mforward\u001b[39m(\u001b[39mself\u001b[39m, \u001b[39minput\u001b[39m):\n\u001b[0;32m    203\u001b[0m     \u001b[39mfor\u001b[39;00m module \u001b[39min\u001b[39;00m \u001b[39mself\u001b[39m:\n\u001b[1;32m--> 204\u001b[0m         \u001b[39minput\u001b[39m \u001b[39m=\u001b[39m module(\u001b[39minput\u001b[39;49m)\n\u001b[0;32m    205\u001b[0m     \u001b[39mreturn\u001b[39;00m \u001b[39minput\u001b[39m\n",
      "File \u001b[1;32mc:\\Users\\amsb9\\AppData\\Local\\Programs\\Python\\Python310\\lib\\site-packages\\torch\\nn\\modules\\module.py:1194\u001b[0m, in \u001b[0;36mModule._call_impl\u001b[1;34m(self, *input, **kwargs)\u001b[0m\n\u001b[0;32m   1190\u001b[0m \u001b[39m# If we don't have any hooks, we want to skip the rest of the logic in\u001b[39;00m\n\u001b[0;32m   1191\u001b[0m \u001b[39m# this function, and just call forward.\u001b[39;00m\n\u001b[0;32m   1192\u001b[0m \u001b[39mif\u001b[39;00m \u001b[39mnot\u001b[39;00m (\u001b[39mself\u001b[39m\u001b[39m.\u001b[39m_backward_hooks \u001b[39mor\u001b[39;00m \u001b[39mself\u001b[39m\u001b[39m.\u001b[39m_forward_hooks \u001b[39mor\u001b[39;00m \u001b[39mself\u001b[39m\u001b[39m.\u001b[39m_forward_pre_hooks \u001b[39mor\u001b[39;00m _global_backward_hooks\n\u001b[0;32m   1193\u001b[0m         \u001b[39mor\u001b[39;00m _global_forward_hooks \u001b[39mor\u001b[39;00m _global_forward_pre_hooks):\n\u001b[1;32m-> 1194\u001b[0m     \u001b[39mreturn\u001b[39;00m forward_call(\u001b[39m*\u001b[39m\u001b[39minput\u001b[39m, \u001b[39m*\u001b[39m\u001b[39m*\u001b[39mkwargs)\n\u001b[0;32m   1195\u001b[0m \u001b[39m# Do not call functions when jit is used\u001b[39;00m\n\u001b[0;32m   1196\u001b[0m full_backward_hooks, non_full_backward_hooks \u001b[39m=\u001b[39m [], []\n",
      "File \u001b[1;32mc:\\Users\\amsb9\\AppData\\Local\\Programs\\Python\\Python310\\lib\\site-packages\\torch\\nn\\modules\\linear.py:114\u001b[0m, in \u001b[0;36mLinear.forward\u001b[1;34m(self, input)\u001b[0m\n\u001b[0;32m    113\u001b[0m \u001b[39mdef\u001b[39;00m \u001b[39mforward\u001b[39m(\u001b[39mself\u001b[39m, \u001b[39minput\u001b[39m: Tensor) \u001b[39m-\u001b[39m\u001b[39m>\u001b[39m Tensor:\n\u001b[1;32m--> 114\u001b[0m     \u001b[39mreturn\u001b[39;00m F\u001b[39m.\u001b[39;49mlinear(\u001b[39minput\u001b[39;49m, \u001b[39mself\u001b[39;49m\u001b[39m.\u001b[39;49mweight, \u001b[39mself\u001b[39;49m\u001b[39m.\u001b[39;49mbias)\n",
      "\u001b[1;31mRuntimeError\u001b[0m: mat1 and mat2 shapes cannot be multiplied (1x1792 and 1696x512)"
     ]
    }
   ],
   "source": [
    "# TODO\n",
    "muse2_recorder = Muse2EEGRecorder()\n",
    "muse2_recorder.connect()\n",
    "with torch.no_grad():\n",
    "    for samples in muse2_recorder.stream(timedelta(seconds=5)):\n",
    "        samples = np.expand_dims(samples[:, :4].T, axis=0)\n",
    "        net(torch.from_numpy(samples).float())"
   ]
  },
  {
   "cell_type": "code",
   "execution_count": null,
   "id": "f0463713",
   "metadata": {},
   "outputs": [],
   "source": []
  }
 ],
 "metadata": {
  "kernelspec": {
   "display_name": "Python 3",
   "language": "python",
   "name": "python3"
  },
  "language_info": {
   "codemirror_mode": {
    "name": "ipython",
    "version": 3
   },
   "file_extension": ".py",
   "mimetype": "text/x-python",
   "name": "python",
   "nbconvert_exporter": "python",
   "pygments_lexer": "ipython3",
   "version": "3.10.5"
  },
  "vscode": {
   "interpreter": {
    "hash": "bce616fd2e2d4d39ebdd58440dc995d47c41b3773e58c13e9ec8c164e6c647aa"
   }
  }
 },
 "nbformat": 4,
 "nbformat_minor": 5
}
